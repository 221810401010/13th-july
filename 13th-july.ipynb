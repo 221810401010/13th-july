{
 "cells": [
  {
   "cell_type": "markdown",
   "metadata": {},
   "source": [
    "### Transforming code into idiomatic python\n",
    "- replace traditional index manuplation with python core looping idiomatic"
   ]
  },
  {
   "cell_type": "code",
   "execution_count": 1,
   "metadata": {},
   "outputs": [
    {
     "name": "stdout",
     "output_type": "stream",
     "text": [
      "0 1 4 9 16 25 "
     ]
    }
   ],
   "source": [
    "# Looping over a range of numbers - Traditional Approach\n",
    "for i in [0,1,2,3,4,5]:\n",
    "    print(i**2,end=\" \")\n",
    "     "
   ]
  },
  {
   "cell_type": "code",
   "execution_count": 2,
   "metadata": {},
   "outputs": [
    {
     "name": "stdout",
     "output_type": "stream",
     "text": [
      "0 1 4 9 16 25 "
     ]
    }
   ],
   "source": [
    "# idomatic programming \n",
    "for i in range(6):\n",
    "    print(i**2,end=\" \")"
   ]
  },
  {
   "cell_type": "markdown",
   "metadata": {},
   "source": [
    "### Looping over a collection"
   ]
  },
  {
   "cell_type": "code",
   "execution_count": 3,
   "metadata": {},
   "outputs": [
    {
     "name": "stdout",
     "output_type": "stream",
     "text": [
      "red green yellow purple "
     ]
    }
   ],
   "source": [
    "colours = ['red','green','yellow','purple']\n",
    "for i in range(len(colours)):\n",
    "    print(colours[i],end=\" \")"
   ]
  },
  {
   "cell_type": "code",
   "execution_count": 5,
   "metadata": {},
   "outputs": [
    {
     "name": "stdout",
     "output_type": "stream",
     "text": [
      "red green yellow purple "
     ]
    }
   ],
   "source": [
    "for colour in colours:\n",
    "    print(colour,end=\" \")"
   ]
  },
  {
   "cell_type": "markdown",
   "metadata": {},
   "source": [
    "### Looping backwards"
   ]
  },
  {
   "cell_type": "code",
   "execution_count": 7,
   "metadata": {},
   "outputs": [
    {
     "name": "stdout",
     "output_type": "stream",
     "text": [
      "purple yellow green red "
     ]
    }
   ],
   "source": [
    "colurs = ['red','green','yellow','pruple']\n",
    "for i in range(len(colours)-1,-1,-1):\n",
    "    print(colours[i],end=\" \")"
   ]
  },
  {
   "cell_type": "code",
   "execution_count": 8,
   "metadata": {},
   "outputs": [
    {
     "name": "stdout",
     "output_type": "stream",
     "text": [
      "purple yellow green red "
     ]
    }
   ],
   "source": [
    "for colour in reversed(colours):\n",
    "    print(colour,end=\" \")"
   ]
  },
  {
   "cell_type": "markdown",
   "metadata": {},
   "source": [
    "### Looping in sorted list"
   ]
  },
  {
   "cell_type": "code",
   "execution_count": 9,
   "metadata": {},
   "outputs": [
    {
     "name": "stdout",
     "output_type": "stream",
     "text": [
      "yellow red purple green "
     ]
    }
   ],
   "source": [
    "colours = ['red','green','yellow','purple']\n",
    "for colour in sorted(colours,reverse=True):\n",
    "    print(colour,end=\" \")\n",
    "    "
   ]
  },
  {
   "cell_type": "code",
   "execution_count": 10,
   "metadata": {},
   "outputs": [
    {
     "name": "stdout",
     "output_type": "stream",
     "text": [
      "green purple red yellow "
     ]
    }
   ],
   "source": [
    "colours = ['red','green','yellow','purple']\n",
    "for colour in sorted(colours):\n",
    "    print(colour,end=\" \")\n",
    "    "
   ]
  },
  {
   "cell_type": "markdown",
   "metadata": {},
   "source": [
    "###\n",
    "\n",
    "- if x <=y and y<=z:\n",
    "- ifx<=y<=z"
   ]
  },
  {
   "cell_type": "markdown",
   "metadata": {},
   "source": [
    "### pandas"
   ]
  },
  {
   "cell_type": "code",
   "execution_count": 1,
   "metadata": {},
   "outputs": [],
   "source": [
    "import pandas as pd"
   ]
  },
  {
   "cell_type": "code",
   "execution_count": 3,
   "metadata": {},
   "outputs": [],
   "source": [
    "dt = {'Id' :[11,12,13,14,15],\n",
    "     'first_name':['A','B','C','D','E'],\n",
    "     'company':['aa','bb','cc','dd','ee'],\n",
    "     'address':['Hyd','Hyd','Hyd','Hyd','Hyd']}\n",
    "mydt = pd.DataFrame(dt)"
   ]
  },
  {
   "cell_type": "code",
   "execution_count": 4,
   "metadata": {},
   "outputs": [
    {
     "name": "stdout",
     "output_type": "stream",
     "text": [
      "   Id first_name company address\n",
      "0  11          A      aa     Hyd\n",
      "1  12          B      bb     Hyd\n",
      "2  13          C      cc     Hyd\n",
      "3  14          D      dd     Hyd\n",
      "4  15          E      ee     Hyd\n"
     ]
    }
   ],
   "source": [
    "\n",
    "print(mydt)"
   ]
  },
  {
   "cell_type": "code",
   "execution_count": 5,
   "metadata": {},
   "outputs": [],
   "source": [
    "import os\n"
   ]
  },
  {
   "cell_type": "code",
   "execution_count": null,
   "metadata": {},
   "outputs": [],
   "source": [
    "os.chdir(\"pathfile\")# save to certain location"
   ]
  },
  {
   "cell_type": "code",
   "execution_count": null,
   "metadata": {},
   "outputs": [],
   "source": [
    "mydt.to_csv('workingfile.csv',index = false)\n"
   ]
  }
 ],
 "metadata": {
  "kernelspec": {
   "display_name": "Python 3",
   "language": "python",
   "name": "python3"
  },
  "language_info": {
   "codemirror_mode": {
    "name": "ipython",
    "version": 3
   },
   "file_extension": ".py",
   "mimetype": "text/x-python",
   "name": "python",
   "nbconvert_exporter": "python",
   "pygments_lexer": "ipython3",
   "version": "3.7.3"
  }
 },
 "nbformat": 4,
 "nbformat_minor": 2
}
